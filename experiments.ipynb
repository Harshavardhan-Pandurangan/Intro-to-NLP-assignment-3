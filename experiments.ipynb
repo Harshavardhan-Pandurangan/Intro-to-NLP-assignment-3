{
 "cells": [
  {
   "cell_type": "markdown",
   "metadata": {},
   "source": [
    "# INLP Assignment 3\n",
    "### Harshavardhan P - 2021111003"
   ]
  },
  {
   "cell_type": "code",
   "execution_count": 1,
   "metadata": {},
   "outputs": [],
   "source": [
    "import csv\n",
    "import nltk\n",
    "import copy\n",
    "import numpy\n",
    "import tqdm\n",
    "import matplotlib.pyplot as plt"
   ]
  },
  {
   "cell_type": "markdown",
   "metadata": {},
   "source": [
    "## Dataset"
   ]
  },
  {
   "cell_type": "code",
   "execution_count": 2,
   "metadata": {},
   "outputs": [
    {
     "name": "stdout",
     "output_type": "stream",
     "text": [
      "120000\n",
      "7600\n"
     ]
    }
   ],
   "source": [
    "# loading data from csv files\n",
    "train_data_path = './Data/train.csv'\n",
    "test_data_path = './Data/test.csv'\n",
    "\n",
    "train_data = None\n",
    "test_data = None\n",
    "with open(train_data_path, 'r') as file:\n",
    "    reader = csv.reader(file)\n",
    "    train_data = list(reader)\n",
    "    train_data = train_data[1:] # remove header\n",
    "with open(test_data_path, 'r') as file:\n",
    "    reader = csv.reader(file)\n",
    "    test_data = list(reader)\n",
    "    test_data = test_data[1:] # remove header\n",
    "\n",
    "print(len(train_data))\n",
    "print(len(test_data))"
   ]
  },
  {
   "cell_type": "markdown",
   "metadata": {},
   "source": [
    "## Training Word Vectors"
   ]
  },
  {
   "cell_type": "markdown",
   "metadata": {},
   "source": [
    "### Singular Value Decomposition (SVD)"
   ]
  },
  {
   "cell_type": "code",
   "execution_count": 3,
   "metadata": {},
   "outputs": [
    {
     "name": "stdout",
     "output_type": "stream",
     "text": [
      "120000\n",
      "['reuters', '-', 'short-sellers', ',', 'wall', 'street', \"'s\", 'dwindling', 'band', 'of', 'ultra-cynics', ',', 'are', 'seeing', 'green', 'again', '.']\n"
     ]
    }
   ],
   "source": [
    "# tokenising the train data to get the individual words\n",
    "train_data_description = [row[1] for row in train_data]\n",
    "train_data_tokenised = [nltk.word_tokenize(description) for description in train_data_description]\n",
    "# tokenise the words based on '\\\\' as well\n",
    "train_data_tokenised = [[word.split('\\\\') for word in description] for description in train_data_tokenised]\n",
    "\n",
    "# print all the elements in the list within the tokenised list\n",
    "train_data_temp = copy.deepcopy(train_data_tokenised)\n",
    "train_data_tokenised = []\n",
    "for description in train_data_temp:\n",
    "    train_data_tokenised.append([])\n",
    "    for words in description:\n",
    "        for word in words:\n",
    "            if word != '':\n",
    "                train_data_tokenised[-1].append(word)\n",
    "\n",
    "# convert all the words to lower case\n",
    "train_data_tokenised = [[word.lower() for word in description] for description in train_data_tokenised]\n",
    "\n",
    "print(len(train_data_tokenised))\n",
    "print(train_data_tokenised[0])"
   ]
  },
  {
   "cell_type": "code",
   "execution_count": 4,
   "metadata": {},
   "outputs": [
    {
     "name": "stdout",
     "output_type": "stream",
     "text": [
      "80622\n"
     ]
    },
    {
     "name": "stderr",
     "output_type": "stream",
     "text": [
      "100%|██████████| 120000/120000 [02:28<00:00, 806.67it/s]"
     ]
    },
    {
     "name": "stdout",
     "output_type": "stream",
     "text": [
      "(80622, 80622)\n"
     ]
    },
    {
     "name": "stderr",
     "output_type": "stream",
     "text": [
      "\n"
     ]
    }
   ],
   "source": [
    "# making the co-occurance matrix for the words\n",
    "vocab = list(set([word for description in train_data_tokenised for word in description]))\n",
    "vocab = sorted(vocab)\n",
    "vocab_size = len(vocab)\n",
    "\n",
    "print(vocab_size)\n",
    "\n",
    "# make a dictionary for the words and their index\n",
    "word_index = {word: i for i, word in enumerate(vocab)}\n",
    "\n",
    "co_occurance_matrix = numpy.zeros((vocab_size, vocab_size))\n",
    "\n",
    "for description in tqdm.tqdm(train_data_tokenised):\n",
    "    for i in range(len(description)):\n",
    "        for j in range(i+1, len(description)):\n",
    "            co_occurance_matrix[word_index[description[i]], word_index[description[j]]] += 1\n",
    "            co_occurance_matrix[word_index[description[j]], word_index[description[i]]] += 1\n",
    "\n",
    "print(co_occurance_matrix.shape)"
   ]
  },
  {
   "cell_type": "code",
   "execution_count": 5,
   "metadata": {},
   "outputs": [
    {
     "ename": "",
     "evalue": "",
     "output_type": "error",
     "traceback": [
      "\u001b[1;31mThe Kernel crashed while executing code in the current cell or a previous cell. \n",
      "\u001b[1;31mPlease review the code in the cell(s) to identify a possible cause of the failure. \n",
      "\u001b[1;31mClick <a href='https://aka.ms/vscodeJupyterKernelCrash'>here</a> for more info. \n",
      "\u001b[1;31mView Jupyter <a href='command:jupyter.viewOutput'>log</a> for further details."
     ]
    }
   ],
   "source": [
    "# svd on the co-occurance matrix\n",
    "u, s, v = numpy.linalg.svd(co_occurance_matrix)\n",
    "\n",
    "print('done')"
   ]
  },
  {
   "cell_type": "markdown",
   "metadata": {},
   "source": [
    "### Skip-gram"
   ]
  }
 ],
 "metadata": {
  "kernelspec": {
   "display_name": "base",
   "language": "python",
   "name": "python3"
  },
  "language_info": {
   "codemirror_mode": {
    "name": "ipython",
    "version": 3
   },
   "file_extension": ".py",
   "mimetype": "text/x-python",
   "name": "python",
   "nbconvert_exporter": "python",
   "pygments_lexer": "ipython3",
   "version": "3.10.9"
  }
 },
 "nbformat": 4,
 "nbformat_minor": 2
}
